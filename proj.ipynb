{
 "cells": [
  {
   "cell_type": "markdown",
   "metadata": {},
   "source": [
    "Используем sqlalchemy для коннекта к БД"
   ]
  },
  {
   "cell_type": "code",
   "execution_count": 1,
   "metadata": {},
   "outputs": [],
   "source": [
    "from sqlalchemy import create_engine\n",
    "import pandas as pd"
   ]
  },
  {
   "cell_type": "code",
   "execution_count": 2,
   "metadata": {},
   "outputs": [],
   "source": [
    "engine = create_engine('postgresql://postgres@127.0.0.1:5432')"
   ]
  },
  {
   "cell_type": "markdown",
   "metadata": {},
   "source": [
    "Читаем данные в pandas из postgresql"
   ]
  },
  {
   "cell_type": "code",
   "execution_count": 3,
   "metadata": {},
   "outputs": [],
   "source": [
    "bankacc = pd.read_sql_query('select * from bankacc',con=engine)\n",
    "collateral = pd.read_sql_query('select * from collateral',con=engine)\n",
    "positions = pd.read_sql_query('select * from positions',con=engine)\n",
    "market_risk = pd.read_sql_query('select * from market_risk',con=engine)"
   ]
  },
  {
   "cell_type": "markdown",
   "metadata": {},
   "source": [
    "Получаем расчетные кода, допустившие технический овердрафт\n",
    "select\n",
    "  *\n",
    "from collateral\n",
    "where volume < 0\n",
    ";"
   ]
  },
  {
   "cell_type": "code",
   "execution_count": 5,
   "metadata": {},
   "outputs": [
    {
     "data": {
      "text/html": [
       "<div>\n",
       "<style scoped>\n",
       "    .dataframe tbody tr th:only-of-type {\n",
       "        vertical-align: middle;\n",
       "    }\n",
       "\n",
       "    .dataframe tbody tr th {\n",
       "        vertical-align: top;\n",
       "    }\n",
       "\n",
       "    .dataframe thead th {\n",
       "        text-align: right;\n",
       "    }\n",
       "</style>\n",
       "<table border=\"1\" class=\"dataframe\">\n",
       "  <thead>\n",
       "    <tr style=\"text-align: right;\">\n",
       "      <th></th>\n",
       "      <th>bankaccid</th>\n",
       "      <th>currencyid</th>\n",
       "      <th>volume</th>\n",
       "    </tr>\n",
       "  </thead>\n",
       "  <tbody>\n",
       "    <tr>\n",
       "      <th>27</th>\n",
       "      <td>21098</td>\n",
       "      <td>EUR</td>\n",
       "      <td>-511000.00</td>\n",
       "    </tr>\n",
       "    <tr>\n",
       "      <th>31</th>\n",
       "      <td>43210</td>\n",
       "      <td>RUB</td>\n",
       "      <td>-776.88</td>\n",
       "    </tr>\n",
       "    <tr>\n",
       "      <th>51</th>\n",
       "      <td>54321</td>\n",
       "      <td>RUB</td>\n",
       "      <td>-50.00</td>\n",
       "    </tr>\n",
       "  </tbody>\n",
       "</table>\n",
       "</div>"
      ],
      "text/plain": [
       "   bankaccid currencyid     volume\n",
       "27     21098        EUR -511000.00\n",
       "31     43210        RUB    -776.88\n",
       "51     54321        RUB     -50.00"
      ]
     },
     "execution_count": 5,
     "metadata": {},
     "output_type": "execute_result"
    }
   ],
   "source": [
    "collateral.loc[collateral['volume'] < 0]"
   ]
  },
  {
   "cell_type": "markdown",
   "metadata": {},
   "source": [
    "Узнаем тип расчетных кодов, допустивших технический овердрафт, и к каким фирмам они принадлежат\n",
    "select\n",
    "  *\n",
    "from collateral c\n",
    "join bankacc b on b.bankaccid = c.bankaccid\n",
    "where c.volume < 0\n",
    ";"
   ]
  },
  {
   "cell_type": "code",
   "execution_count": 6,
   "metadata": {},
   "outputs": [
    {
     "data": {
      "text/html": [
       "<div>\n",
       "<style scoped>\n",
       "    .dataframe tbody tr th:only-of-type {\n",
       "        vertical-align: middle;\n",
       "    }\n",
       "\n",
       "    .dataframe tbody tr th {\n",
       "        vertical-align: top;\n",
       "    }\n",
       "\n",
       "    .dataframe thead th {\n",
       "        text-align: right;\n",
       "    }\n",
       "</style>\n",
       "<table border=\"1\" class=\"dataframe\">\n",
       "  <thead>\n",
       "    <tr style=\"text-align: right;\">\n",
       "      <th></th>\n",
       "      <th>bankaccid</th>\n",
       "      <th>currencyid</th>\n",
       "      <th>volume</th>\n",
       "      <th>typ</th>\n",
       "      <th>firmid</th>\n",
       "    </tr>\n",
       "  </thead>\n",
       "  <tbody>\n",
       "    <tr>\n",
       "      <th>0</th>\n",
       "      <td>21098</td>\n",
       "      <td>EUR</td>\n",
       "      <td>-511000.00</td>\n",
       "      <td>S</td>\n",
       "      <td>XZ7413500000</td>\n",
       "    </tr>\n",
       "    <tr>\n",
       "      <th>1</th>\n",
       "      <td>43210</td>\n",
       "      <td>RUB</td>\n",
       "      <td>-776.88</td>\n",
       "      <td>S</td>\n",
       "      <td>XZ3115900000</td>\n",
       "    </tr>\n",
       "    <tr>\n",
       "      <th>2</th>\n",
       "      <td>54321</td>\n",
       "      <td>RUB</td>\n",
       "      <td>-50.00</td>\n",
       "      <td>L</td>\n",
       "      <td>XZ9853400000</td>\n",
       "    </tr>\n",
       "  </tbody>\n",
       "</table>\n",
       "</div>"
      ],
      "text/plain": [
       "  bankaccid currencyid     volume typ        firmid\n",
       "0     21098        EUR -511000.00   S  XZ7413500000\n",
       "1     43210        RUB    -776.88   S  XZ3115900000\n",
       "2     54321        RUB     -50.00   L  XZ9853400000"
      ]
     },
     "execution_count": 6,
     "metadata": {},
     "output_type": "execute_result"
    }
   ],
   "source": [
    "collateral.loc[collateral['volume'] < 0].merge(bankacc, how='inner', left_on='bankaccid', right_on='bankaccid')"
   ]
  },
  {
   "cell_type": "markdown",
   "metadata": {},
   "source": [
    "Получаем суммарную позицию в разрезе расчетный код/актив\n",
    "select\n",
    "  bankaccid,\n",
    "  currencyid,\n",
    "  sum(volume) as volume\n",
    "from positions\n",
    "group by bankaccid, currencyid\n",
    ";"
   ]
  },
  {
   "cell_type": "code",
   "execution_count": 7,
   "metadata": {},
   "outputs": [
    {
     "data": {
      "text/plain": [
       "bankaccid  currencyid\n",
       "01234      CNY          -1.481000e+08\n",
       "           EUR           1.126160e+08\n",
       "           RUB           1.124301e+10\n",
       "           USD          -2.977625e+08\n",
       "10987      EUR           1.070000e+05\n",
       "           RUB          -8.584839e+08\n",
       "           USD           1.382600e+07\n",
       "12345      EUR          -6.333000e+06\n",
       "           RUB          -3.823992e+08\n",
       "           USD           1.761234e+07\n",
       "21098      CNY          -2.000000e+06\n",
       "           EUR          -5.513700e+07\n",
       "           GBP           5.200000e+06\n",
       "           RUB           1.595995e+11\n",
       "           USD          -2.536568e+09\n",
       "23456      CNY          -5.700000e+06\n",
       "           RUB           4.486065e+07\n",
       "           USD           1.720000e+05\n",
       "32109      EUR           1.707100e+04\n",
       "           RUB           4.939018e+06\n",
       "           USD          -9.985648e+04\n",
       "34567      EUR          -1.000000e+05\n",
       "           RUB          -1.909845e+06\n",
       "           USD           1.530000e+05\n",
       "36985      RUB          -8.150000e+04\n",
       "43210      CNY           6.323000e+06\n",
       "           EUR          -4.517151e+08\n",
       "           GLD          -1.990000e+03\n",
       "           RUB           2.994370e+10\n",
       "           USD           4.410115e+07\n",
       "45678      RUB           1.960747e+07\n",
       "           USD          -3.140000e+05\n",
       "54321      EUR           4.000000e+03\n",
       "           RUB          -1.650119e+08\n",
       "           USD           2.635000e+06\n",
       "56789      RUB           5.674185e+07\n",
       "           USD          -7.820000e+05\n",
       "65432      EUR           1.122355e+09\n",
       "           RUB           4.050416e+10\n",
       "           USD          -1.955126e+09\n",
       "67890      RUB          -4.745500e+04\n",
       "78901      RUB           7.733750e+04\n",
       "Name: volume, dtype: float64"
      ]
     },
     "execution_count": 7,
     "metadata": {},
     "output_type": "execute_result"
    }
   ],
   "source": [
    "positions.groupby(['bankaccid', 'currencyid'])['volume'].sum()"
   ]
  },
  {
   "cell_type": "markdown",
   "metadata": {},
   "source": [
    " Получаем суммарную позицию в разрезе фирма/день/актив\n",
    "select\n",
    "  b.firmid,\n",
    "  p.settledate,\n",
    "  p.currencyid,\n",
    "  sum(p.volume)\n",
    "from positions p\n",
    "join bankacc b on b.bankaccid = p.bankaccid\n",
    "group by b.firmid, p.settledate, p.currencyid\n",
    "order by b.firmid, p.settledate\n",
    ";"
   ]
  },
  {
   "cell_type": "code",
   "execution_count": 14,
   "metadata": {},
   "outputs": [
    {
     "data": {
      "text/plain": [
       "firmid        settledate  currencyid\n",
       "XZ3115900000  2018-05-29  CNY           6.323000e+06\n",
       "                          EUR          -4.516980e+08\n",
       "                          GLD          -1.990000e+03\n",
       "                          RUB           3.142174e+10\n",
       "                          USD           2.000130e+07\n",
       "              2018-06-19  RUB           6.225930e+07\n",
       "                          USD          -1.000000e+06\n",
       "              2018-06-21  RUB          -3.736392e+09\n",
       "                          USD           6.000000e+07\n",
       "              2018-06-26  RUB           3.115410e+09\n",
       "                          USD          -5.000000e+07\n",
       "              2018-07-05  RUB          -1.559270e+09\n",
       "                          USD           2.500000e+07\n",
       "              2018-07-11  RUB           6.241240e+07\n",
       "                          USD          -1.000000e+06\n",
       "              2018-07-13  RUB           1.623073e+09\n",
       "                          USD          -2.600000e+07\n",
       "              2018-07-16  RUB           3.122325e+08\n",
       "                          USD          -5.000000e+06\n",
       "              2018-07-17  RUB           5.620824e+08\n",
       "                          USD          -9.000000e+06\n",
       "              2018-07-19  RUB          -6.683958e+09\n",
       "                          USD           1.070000e+08\n",
       "              2018-08-07  RUB           1.251890e+09\n",
       "                          USD          -2.000000e+07\n",
       "              2018-08-09  RUB          -1.252168e+09\n",
       "                          USD           2.000000e+07\n",
       "              2018-08-10  RUB           1.252284e+09\n",
       "                          USD          -2.000000e+07\n",
       "              2018-08-27  RUB           1.568165e+09\n",
       "                                            ...     \n",
       "XZ9853400000  2019-01-14  RUB          -1.271986e+09\n",
       "                          USD           2.000000e+07\n",
       "              2019-01-16  RUB           6.361230e+07\n",
       "                          USD          -1.000000e+06\n",
       "              2019-01-17  RUB           9.542820e+07\n",
       "                          USD          -1.500000e+06\n",
       "              2019-01-22  RUB           6.364720e+08\n",
       "                          USD          -1.000000e+07\n",
       "              2019-01-23  RUB           1.273074e+09\n",
       "                          USD          -2.000000e+07\n",
       "              2019-01-24  RUB           6.366020e+08\n",
       "                          USD          -1.000000e+07\n",
       "              2019-02-08  RUB           6.374430e+08\n",
       "                          USD          -1.000000e+07\n",
       "              2019-02-11  RUB           6.375920e+08\n",
       "                          USD          -1.000000e+07\n",
       "              2019-02-14  RUB           1.913355e+07\n",
       "                          USD          -3.000000e+05\n",
       "              2019-02-15  RUB          -1.594510e+09\n",
       "                          USD           2.500000e+07\n",
       "              2019-02-19  RUB          -3.190300e+08\n",
       "                          USD           5.000000e+06\n",
       "              2019-02-21  RUB           6.381420e+08\n",
       "                          USD          -1.000000e+07\n",
       "              2019-02-26  RUB           1.085304e+08\n",
       "                          USD          -1.700000e+06\n",
       "              2019-03-13  RUB           6.393200e+08\n",
       "                          USD          -1.000000e+07\n",
       "              2019-04-22  RUB           6.416900e+08\n",
       "                          USD          -1.000000e+07\n",
       "Name: volume, Length: 543, dtype: float64"
      ]
     },
     "execution_count": 14,
     "metadata": {},
     "output_type": "execute_result"
    }
   ],
   "source": [
    "positions.merge(bankacc, how='inner', left_on='bankaccid', right_on='bankaccid') \\\n",
    ".groupby(['firmid', 'settledate', 'currencyid'])['volume'].sum()"
   ]
  },
  {
   "cell_type": "markdown",
   "metadata": {},
   "source": [
    "Получем переоценку залоговых средств по текущей цене\n",
    "select\n",
    "  b.firmid,\n",
    "  sum(c.volume * r.price_clean) as value\n",
    "from collateral c\n",
    "join (\n",
    "  select distinct\n",
    "    asset,\n",
    "    price_clean\n",
    "  from market_risk\n",
    ") r on c.currencyid = r.asset\n",
    "join bankacc b on b.bankaccid = c.bankaccid\n",
    "group by b.firmid\n",
    ";"
   ]
  },
  {
   "cell_type": "code",
   "execution_count": 27,
   "metadata": {},
   "outputs": [
    {
     "data": {
      "text/plain": [
       "firmid\n",
       "XZ3115900000    8.045005e+09\n",
       "XZ3644700000    5.107635e+08\n",
       "XZ6987400000    2.582551e+09\n",
       "XZ7413500000    2.981411e+08\n",
       "XZ9853400000    6.649487e+10\n",
       "Name: value, dtype: float64"
      ]
     },
     "execution_count": 27,
     "metadata": {},
     "output_type": "execute_result"
    }
   ],
   "source": [
    "csv = collateral.merge(market_risk[['asset', 'price_clean']].drop_duplicates(), how='inner', left_on='currencyid', right_on='asset')\\\n",
    ".merge(bankacc, how='inner', left_on='bankaccid', right_on='bankaccid') \\\n",
    ".assign(value=lambda idf: idf['volume']*idf['price_clean'])\\\n",
    ".groupby(['firmid'])['value'].sum()\n",
    "csv"
   ]
  },
  {
   "cell_type": "code",
   "execution_count": 28,
   "metadata": {},
   "outputs": [],
   "source": [
    "csv.to_csv('.\\data\\out.csv')"
   ]
  },
  {
   "cell_type": "code",
   "execution_count": null,
   "metadata": {},
   "outputs": [],
   "source": []
  }
 ],
 "metadata": {
  "kernelspec": {
   "display_name": "Python 3",
   "language": "python",
   "name": "python3"
  },
  "language_info": {
   "codemirror_mode": {
    "name": "ipython",
    "version": 3
   },
   "file_extension": ".py",
   "mimetype": "text/x-python",
   "name": "python",
   "nbconvert_exporter": "python",
   "pygments_lexer": "ipython3",
   "version": "3.6.5"
  }
 },
 "nbformat": 4,
 "nbformat_minor": 2
}
